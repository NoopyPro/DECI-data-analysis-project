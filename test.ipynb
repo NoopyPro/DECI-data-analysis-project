{
 "cells": [
  {
   "cell_type": "code",
   "execution_count": 25,
   "id": "af90b950",
   "metadata": {},
   "outputs": [],
   "source": [
    "from dotenv import load_dotenv, find_dotenv\n",
    "import os\n",
    "import tweepy\n",
    "import pandas as pd\n",
    "import json"
   ]
  },
  {
   "cell_type": "code",
   "execution_count": 26,
   "id": "84d3dedb",
   "metadata": {},
   "outputs": [],
   "source": [
    "dotenv_path = find_dotenv()\n",
    "if dotenv_path:\n",
    "    load_dotenv(dotenv_path)\n",
    "    \n",
    "# Load credentials from environment variables\n",
    "bearer_token_ = os.getenv('BEARER_TOKEN')\n",
    "consumer_key_ = os.getenv('CONSUMER_KEY')\n",
    "consumer_secret_ = os.getenv('CONSUMER_SECRET')\n",
    "access_token_ = os.getenv('ACCESS_TOKEN')\n",
    "access_secret_ = os.getenv('ACCESS_SECRET')\n",
    "\n",
    "client = tweepy.Client(bearer_token=bearer_token_,\n",
    "    consumer_key=consumer_key_,\n",
    "    consumer_secret=consumer_secret_,\n",
    "    access_token=access_token_,\n",
    "    access_token_secret=access_secret_,\n",
    "    wait_on_rate_limit=True\n",
    "    )"
   ]
  },
  {
   "cell_type": "code",
   "execution_count": 27,
   "id": "99f0334b",
   "metadata": {},
   "outputs": [],
   "source": [
    "df_img = pd.read_csv('image-predictions.tsv', sep='\\t')"
   ]
  },
  {
   "cell_type": "code",
   "execution_count": null,
   "id": "9dcada29",
   "metadata": {},
   "outputs": [
    {
     "name": "stdout",
     "output_type": "stream",
     "text": [
      "An error occurred: maximum recursion depth exceeded\n"
     ]
    }
   ],
   "source": [
    "tweet_ids = df_img['tweet_id'].tolist()  # Ensure this is a list of tweet IDs\n",
    "try:\n",
    "    with open('test_json.txt', 'a') as file:\n",
    "        tweets = client.get_tweets(ids=tweet_ids[0:10], tweet_fields=['public_metrics', 'text'])\n",
    "        if tweets.data:  # Check if tweets.data is not None or empty\n",
    "            for tweet in tweets.data:\n",
    "                file.write(json.dumps(tweet.data) + '\\n')  # Write tweet data to file\n",
    "        else:\n",
    "            print(\"No data returned for the given tweet IDs.\")\n",
    "except Exception as e:\n",
    "    print(f\"An error occurred: {e}\")"
   ]
  },
  {
   "cell_type": "code",
   "execution_count": null,
   "id": "bbdb39a4",
   "metadata": {},
   "outputs": [],
   "source": []
  }
 ],
 "metadata": {
  "language_info": {
   "name": "python"
  }
 },
 "nbformat": 4,
 "nbformat_minor": 5
}
